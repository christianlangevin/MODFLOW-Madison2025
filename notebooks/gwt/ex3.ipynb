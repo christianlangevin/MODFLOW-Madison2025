{
 "cells": [
  {
   "cell_type": "markdown",
   "metadata": {},
   "source": [
    "# Advanced Groundwater Modeling Techniques with MODFLOW 6 and PEST++\n",
    "A 2-day informal in-person workshop\\\n",
    "Madison, WI\\\n",
    "July 21-22, 2025\n",
    "\n",
    "![title](../../images/ClassLocation.jpg)"
   ]
  },
  {
   "cell_type": "markdown",
   "metadata": {},
   "source": [
    "# GWT Example 3 -- Transport Modeling for Source Water Identification\n",
    "\n",
    "This example is based on the MODFLOW 6 example described [here](https://modflow6-examples.readthedocs.io/en/master/_examples/ex-gwt-synthetic-valley.html) and modified from the jupyter notebook [here](https://modflow6-examples.readthedocs.io/en/master/_notebooks/ex-gwt-synthetic-valley.html).  \n",
    "\n",
    "In the original version of this problem, which we start with here, the lake is assigned a fixed concentration of 1.0.  The GWT model simulates movement of this lake water through the model domain.  In this example, we use the GWT model and several variants of it, to identify the sources of water that comprise water that is extracted from the three pumping wells."
   ]
  },
  {
   "cell_type": "code",
   "execution_count": null,
   "metadata": {},
   "outputs": [],
   "source": [
    "# imports\n",
    "%matplotlib inline\n",
    "import ex3\n",
    "import flopy\n",
    "import matplotlib.pyplot as plt\n",
    "import numpy as np\n",
    "\n",
    "silent = True"
   ]
  },
  {
   "cell_type": "markdown",
   "metadata": {},
   "source": [
    "## Create and Run Flow Model\n",
    "\n",
    "Create and run the flow model that was developed for Synthetic Valley."
   ]
  },
  {
   "cell_type": "code",
   "execution_count": null,
   "metadata": {},
   "outputs": [],
   "source": [
    "sim_gwf = ex3.get_mf6gwf_sim(\n",
    "    lake_concentration=1.0, recharge_concentration=0.0\n",
    ")\n",
    "sim_gwf.write_simulation(silent=silent)\n",
    "sim_gwf.run_simulation(silent=silent)"
   ]
  },
  {
   "cell_type": "markdown",
   "metadata": {},
   "source": [
    "## Create and Run Transport Model\n",
    "\n",
    "Create and run the transport model that was developed for Synthetic Valley."
   ]
  },
  {
   "cell_type": "code",
   "execution_count": null,
   "metadata": {},
   "outputs": [],
   "source": [
    "sim_gwt = ex3.get_mf6gwt_sim(initial_concentration=0.0)\n",
    "sim_gwt.write_simulation(silent=silent)\n",
    "sim_gwt.run_simulation(silent=silent)"
   ]
  },
  {
   "cell_type": "markdown",
   "metadata": {},
   "source": [
    "## Plot Results"
   ]
  },
  {
   "cell_type": "code",
   "execution_count": null,
   "metadata": {},
   "outputs": [],
   "source": [
    "ex3.plot_head_results(sim_gwf)"
   ]
  },
  {
   "cell_type": "code",
   "execution_count": null,
   "metadata": {},
   "outputs": [],
   "source": [
    "ex3.plot_conc_results(sim_gwt)"
   ]
  },
  {
   "cell_type": "markdown",
   "metadata": {},
   "source": [
    "## Exercise\n",
    "\n",
    "1.  In Synthetic Valley, there are three pumping wells that extract groundwater.  From the simulation results, can you determine, for each well, the fraction of the extracted water that comes from the lake?  Does this value change with time?\n",
    "2.  What are the other sources of water to the wells?\n",
    "3.  How can we use one or more solute transport models to show the source water fraction as a function of time for each of the three extraction wells?\n",
    "4.  For each well, make a plot that shows the fraction of water from the different sources versus time.\n",
    "\n",
    "In order to answer these questions, you will need concentrations in the three pumping wells as a function of time.  An observation package was added to the GWT model so that concentrations at the pumping well cells are saved to `trans.obs.csv` each time the model runs.  You can get back a numpy record array of the pumping well concentrations using the following:\n",
    "\n",
    "```\n",
    "well_concentrations = sim_gwt.trans.obs.output.obs().get_data()\n",
    "```\n",
    "\n",
    "Hint: there are two functions already set up for us in `ex3.py`:\n",
    "* `get_mf6gwf_sim(lake_concentration=1.0, recharge_concentration=0.0)`\n",
    "* `get_mf6gwt_sim(initial_concentration=0.0)`"
   ]
  },
  {
   "cell_type": "code",
   "execution_count": null,
   "metadata": {},
   "outputs": [],
   "source": [
    "well_concentrations = sim_gwt.trans.obs.output.obs().get_data()\n",
    "fig, ax = plt.subplots(figsize=(10, 6))\n",
    "for wellname in [\"P1\", \"P2\", \"P3\"]:\n",
    "    ax.plot(well_concentrations[\"totim\"] / 365., well_concentrations[wellname], label=wellname)\n",
    "ax.legend()\n",
    "ax.set_xlabel(\"Time (years)\")\n",
    "ax.set_ylabel(\"Concentration\")"
   ]
  },
  {
   "cell_type": "markdown",
   "metadata": {},
   "source": [
    "## Source Water Fraction"
   ]
  },
  {
   "cell_type": "code",
   "execution_count": null,
   "metadata": {},
   "outputs": [],
   "source": [
    "sim_gwf = ex3.get_mf6gwf_sim(\n",
    "    lake_concentration=1.0, recharge_concentration=0.0\n",
    ")\n",
    "sim_gwf.write_simulation(silent=silent)\n",
    "sim_gwf.run_simulation(silent=silent)\n",
    "\n",
    "sim_gwt = ex3.get_mf6gwt_sim(initial_concentration=0.0)\n",
    "sim_gwt.write_simulation(silent=silent)\n",
    "sim_gwt.run_simulation(silent=silent)\n",
    "\n",
    "wcA = sim_gwt.trans.obs.output.obs().get_data()"
   ]
  },
  {
   "cell_type": "code",
   "execution_count": null,
   "metadata": {},
   "outputs": [],
   "source": [
    "sim_gwf = ex3.get_mf6gwf_sim(\n",
    "    lake_concentration=0.0, recharge_concentration=1.0\n",
    ")\n",
    "sim_gwf.write_simulation(silent=silent)\n",
    "sim_gwf.run_simulation(silent=silent)\n",
    "\n",
    "sim_gwt = ex3.get_mf6gwt_sim(initial_concentration=0.0)\n",
    "sim_gwt.write_simulation(silent=silent)\n",
    "sim_gwt.run_simulation(silent=silent)\n",
    "\n",
    "wcB = sim_gwt.trans.obs.output.obs().get_data()"
   ]
  },
  {
   "cell_type": "code",
   "execution_count": null,
   "metadata": {},
   "outputs": [],
   "source": [
    "sim_gwf = ex3.get_mf6gwf_sim(\n",
    "    lake_concentration=0.0, recharge_concentration=0.0\n",
    ")\n",
    "sim_gwf.write_simulation(silent=silent)\n",
    "sim_gwf.run_simulation(silent=silent)\n",
    "\n",
    "sim_gwt = ex3.get_mf6gwt_sim(initial_concentration=1.0)\n",
    "sim_gwt.write_simulation(silent=silent)\n",
    "sim_gwt.run_simulation(silent=silent)\n",
    "\n",
    "wcC = sim_gwt.trans.obs.output.obs().get_data()"
   ]
  },
  {
   "cell_type": "code",
   "execution_count": null,
   "metadata": {},
   "outputs": [],
   "source": [
    "fig, ax = plt.subplots(figsize=(10, 6))\n",
    "wellname = \"P1\"\n",
    "ax.plot(wcA[\"totim\"] / 365., wcA[wellname], label=\"Lake Water Fraction\")\n",
    "ax.plot(wcB[\"totim\"] / 365., wcB[wellname], label=\"Recharge Water Fraction\")\n",
    "ax.plot(wcC[\"totim\"] / 365., wcC[wellname], label=\"Fraction of Initial Water\")\n",
    "ax.legend()\n",
    "ax.set_xlabel(\"Time (years)\")\n",
    "ax.set_ylabel(\"Concentration\")\n",
    "ax.set_title(wellname)"
   ]
  },
  {
   "cell_type": "code",
   "execution_count": null,
   "metadata": {},
   "outputs": [],
   "source": [
    "fig, ax = plt.subplots(figsize=(10, 6))\n",
    "wellname = \"P2\"\n",
    "ax.plot(wcA[\"totim\"] / 365., wcA[wellname], label=\"Lake Water Fraction\")\n",
    "ax.plot(wcB[\"totim\"] / 365., wcB[wellname], label=\"Recharge Water Fraction\")\n",
    "ax.plot(wcC[\"totim\"] / 365., wcC[wellname], label=\"Fraction of Initial Water\")\n",
    "ax.legend()\n",
    "ax.set_xlabel(\"Time (years)\")\n",
    "ax.set_ylabel(\"Concentration\")\n",
    "ax.set_title(wellname)"
   ]
  },
  {
   "cell_type": "code",
   "execution_count": null,
   "metadata": {},
   "outputs": [],
   "source": [
    "fig, ax = plt.subplots(figsize=(10, 6))\n",
    "wellname = \"P3\"\n",
    "ax.plot(wcA[\"totim\"] / 365., wcA[wellname], label=\"Lake Water Fraction\")\n",
    "ax.plot(wcB[\"totim\"] / 365., wcB[wellname], label=\"Recharge Water Fraction\")\n",
    "ax.plot(wcC[\"totim\"] / 365., wcC[wellname], label=\"Fraction of Initial Water\")\n",
    "ax.legend()\n",
    "ax.set_xlabel(\"Time (years)\")\n",
    "ax.set_ylabel(\"Concentration\")\n",
    "ax.set_title(wellname)"
   ]
  },
  {
   "cell_type": "code",
   "execution_count": null,
   "metadata": {},
   "outputs": [],
   "source": []
  }
 ],
 "metadata": {
  "kernelspec": {
   "display_name": "madison25flopy",
   "language": "python",
   "name": "python3"
  },
  "language_info": {
   "codemirror_mode": {
    "name": "ipython",
    "version": 3
   },
   "file_extension": ".py",
   "mimetype": "text/x-python",
   "name": "python",
   "nbconvert_exporter": "python",
   "pygments_lexer": "ipython3",
   "version": "3.13.5"
  }
 },
 "nbformat": 4,
 "nbformat_minor": 4
}
