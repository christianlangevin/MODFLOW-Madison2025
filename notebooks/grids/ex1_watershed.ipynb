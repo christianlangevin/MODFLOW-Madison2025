{
 "cells": [
  {
   "cell_type": "markdown",
   "id": "858d30a1",
   "metadata": {},
   "source": [
    "# Advanced Groundwater Modeling Techniques with MODFLOW 6 and PEST++\n",
    "A 2-day informal in-person workshop\n",
    "Madison, WI\\\n",
    "July 21-22, 2025\n",
    "\n",
    "![title](../../images/ClassLocation.jpg)"
   ]
  },
  {
   "cell_type": "markdown",
   "id": "a067e341",
   "metadata": {},
   "source": [
    "# Watershed geoprocessing example\n",
    "\n",
    "From Hughes, Joseph D., Langevin, Christian D., Paulinski, Scott R., Larsen, Joshua D., and Brakenhoff, David, 2023, FloPy Workflows for Creating Structured and Unstructured MODFLOW Models: Groundwater, https://doi.org/10.1111/gwat.13327\n"
   ]
  },
  {
   "cell_type": "code",
   "execution_count": null,
   "id": "e4374f8a",
   "metadata": {
    "execution": {
     "iopub.execute_input": "2025-05-13T01:45:10.162619Z",
     "iopub.status.busy": "2025-05-13T01:45:10.162422Z",
     "iopub.status.idle": "2025-05-13T01:45:10.165742Z",
     "shell.execute_reply": "2025-05-13T01:45:10.165256Z"
    }
   },
   "outputs": [],
   "source": [
    "import os\n",
    "import pathlib as pl\n",
    "import sys"
   ]
  },
  {
   "cell_type": "code",
   "execution_count": null,
   "id": "a3e2821e",
   "metadata": {
    "execution": {
     "iopub.execute_input": "2025-05-13T01:45:10.167232Z",
     "iopub.status.busy": "2025-05-13T01:45:10.167068Z",
     "iopub.status.idle": "2025-05-13T01:45:10.625068Z",
     "shell.execute_reply": "2025-05-13T01:45:10.624487Z"
    }
   },
   "outputs": [],
   "source": [
    "import matplotlib as mpl\n",
    "import matplotlib.gridspec as gridspec\n",
    "import matplotlib.pyplot as plt\n",
    "import numpy as np\n",
    "import pooch\n",
    "import shapely\n",
    "import yaml\n",
    "from shapely.geometry import LineString, Polygon"
   ]
  },
  {
   "cell_type": "code",
   "execution_count": null,
   "id": "413dea4f",
   "metadata": {
    "execution": {
     "iopub.execute_input": "2025-05-13T01:45:10.626961Z",
     "iopub.status.busy": "2025-05-13T01:45:10.626715Z",
     "iopub.status.idle": "2025-05-13T01:45:10.922337Z",
     "shell.execute_reply": "2025-05-13T01:45:10.921704Z"
    }
   },
   "outputs": [],
   "source": [
    "import flopy\n",
    "import flopy.plot.styles as styles\n",
    "from flopy.discretization import StructuredGrid, VertexGrid\n",
    "from flopy.utils.gridgen import Gridgen\n",
    "from flopy.utils.gridintersect import GridIntersect\n",
    "from flopy.utils.triangle import Triangle\n",
    "from flopy.utils.voronoi import VoronoiGrid"
   ]
  },
  {
   "cell_type": "code",
   "execution_count": null,
   "id": "16cbf39b",
   "metadata": {
    "execution": {
     "iopub.execute_input": "2025-05-13T01:45:10.924500Z",
     "iopub.status.busy": "2025-05-13T01:45:10.924241Z",
     "iopub.status.idle": "2025-05-13T01:45:10.928057Z",
     "shell.execute_reply": "2025-05-13T01:45:10.927594Z"
    }
   },
   "outputs": [],
   "source": [
    "print(sys.version)\n",
    "print(f\"numpy version: {np.__version__}\")\n",
    "print(f\"matplotlib version: {mpl.__version__}\")\n",
    "print(f\"flopy version: {flopy.__version__}\")"
   ]
  },
  {
   "cell_type": "code",
   "execution_count": null,
   "id": "c24f1ebd",
   "metadata": {
    "execution": {
     "iopub.execute_input": "2025-05-13T01:45:10.929859Z",
     "iopub.status.busy": "2025-05-13T01:45:10.929471Z",
     "iopub.status.idle": "2025-05-13T01:45:10.933301Z",
     "shell.execute_reply": "2025-05-13T01:45:10.932827Z"
    }
   },
   "outputs": [],
   "source": [
    "# define a few utility functions\n",
    "def string2geom(geostring, conversion=None):\n",
    "    if conversion is None:\n",
    "        multiplier = 1.0\n",
    "    else:\n",
    "        multiplier = float(conversion)\n",
    "    res = []\n",
    "    for line in geostring.split(\"\\n\"):\n",
    "        if not any(line):\n",
    "            continue\n",
    "        line = line.strip()\n",
    "        line = line.split(\" \")\n",
    "        x = float(line[0]) * multiplier\n",
    "        y = float(line[1]) * multiplier\n",
    "        res.append((x, y))\n",
    "    return res"
   ]
  },
  {
   "cell_type": "code",
   "execution_count": null,
   "id": "2f024f2b",
   "metadata": {
    "execution": {
     "iopub.execute_input": "2025-05-13T01:45:10.935119Z",
     "iopub.status.busy": "2025-05-13T01:45:10.934660Z",
     "iopub.status.idle": "2025-05-13T01:45:10.938350Z",
     "shell.execute_reply": "2025-05-13T01:45:10.937882Z"
    }
   },
   "outputs": [],
   "source": [
    "def densify_geometry(line, step, keep_internal_nodes=True):\n",
    "    xy = []  # list of tuple of coordinates\n",
    "    lines_strings = []\n",
    "    if keep_internal_nodes:\n",
    "        for idx in range(1, len(line)):\n",
    "            lines_strings.append(shapely.geometry.LineString(line[idx - 1 : idx + 1]))\n",
    "    else:\n",
    "        lines_strings = [shapely.geometry.LineString(line)]\n",
    "\n",
    "    for line_string in lines_strings:\n",
    "        length_m = line_string.length  # get the length\n",
    "        for distance in np.arange(0, length_m + step, step):\n",
    "            point = line_string.interpolate(distance)\n",
    "            xy_tuple = (point.x, point.y)\n",
    "            if xy_tuple not in xy:\n",
    "                xy.append(xy_tuple)\n",
    "        # make sure the end point is in xy\n",
    "        if keep_internal_nodes:\n",
    "            xy_tuple = line_string.coords[-1]\n",
    "            if xy_tuple not in xy:\n",
    "                xy.append(xy_tuple)\n",
    "\n",
    "    return xy"
   ]
  },
  {
   "cell_type": "code",
   "execution_count": null,
   "id": "4f83347b",
   "metadata": {
    "execution": {
     "iopub.execute_input": "2025-05-13T01:45:10.939757Z",
     "iopub.status.busy": "2025-05-13T01:45:10.939578Z",
     "iopub.status.idle": "2025-05-13T01:45:10.942853Z",
     "shell.execute_reply": "2025-05-13T01:45:10.942387Z"
    }
   },
   "outputs": [],
   "source": [
    "# function to set the active and inactive model area\n",
    "def set_idomain(grid, boundary):\n",
    "    ix = GridIntersect(grid, method=\"vertex\", rtree=True)\n",
    "    result = ix.intersect(Polygon(boundary))\n",
    "    idx = list(result.cellids)\n",
    "    idx = np.array(idx, dtype=int)\n",
    "    nr = idx.shape[0]\n",
    "    if idx.ndim == 1:\n",
    "        idx = idx.reshape((nr, 1))\n",
    "    idx = tuple([idx[:, i] for i in range(idx.shape[1])])\n",
    "    idomain = np.zeros(grid.shape[1:], dtype=int)\n",
    "    idomain[idx] = 1\n",
    "    idomain = idomain.reshape(grid.shape)\n",
    "    grid.idomain = idomain"
   ]
  },
  {
   "cell_type": "code",
   "execution_count": null,
   "id": "0076645d",
   "metadata": {
    "execution": {
     "iopub.execute_input": "2025-05-13T01:45:10.951097Z",
     "iopub.status.busy": "2025-05-13T01:45:10.950704Z",
     "iopub.status.idle": "2025-05-13T01:45:10.957469Z",
     "shell.execute_reply": "2025-05-13T01:45:10.957027Z"
    }
   },
   "outputs": [],
   "source": [
    "data_path = pl.Path(\"../../data\")\n",
    "folder_name = \"groundwater2023\"\n",
    "fname = \"geometries.yml\""
   ]
  },
  {
   "cell_type": "code",
   "execution_count": null,
   "id": "f9bd3b6a",
   "metadata": {
    "execution": {
     "iopub.execute_input": "2025-05-13T01:45:10.959254Z",
     "iopub.status.busy": "2025-05-13T01:45:10.958895Z",
     "iopub.status.idle": "2025-05-13T01:45:10.966349Z",
     "shell.execute_reply": "2025-05-13T01:45:10.965914Z"
    }
   },
   "outputs": [],
   "source": [
    "geometries = yaml.safe_load(open(data_path / folder_name / fname))"
   ]
  },
  {
   "cell_type": "code",
   "execution_count": null,
   "id": "9fa1a795",
   "metadata": {
    "execution": {
     "iopub.execute_input": "2025-05-13T01:45:10.968041Z",
     "iopub.status.busy": "2025-05-13T01:45:10.967580Z",
     "iopub.status.idle": "2025-05-13T01:45:10.970428Z",
     "shell.execute_reply": "2025-05-13T01:45:10.969941Z"
    }
   },
   "outputs": [],
   "source": [
    "# basic figure size\n",
    "figwidth = 180  # 90 # mm\n",
    "figwidth = figwidth / 10 / 2.54  # inches\n",
    "figheight = figwidth\n",
    "figsize = (figwidth, figheight)"
   ]
  },
  {
   "cell_type": "code",
   "execution_count": null,
   "id": "27401ab6",
   "metadata": {
    "execution": {
     "iopub.execute_input": "2025-05-13T01:45:10.971957Z",
     "iopub.status.busy": "2025-05-13T01:45:10.971801Z",
     "iopub.status.idle": "2025-05-13T01:45:10.975400Z",
     "shell.execute_reply": "2025-05-13T01:45:10.974928Z"
    },
    "lines_to_next_cell": 2
   },
   "outputs": [],
   "source": [
    "# figure settings\n",
    "levels = np.arange(10, 110, 10)\n",
    "contour_color = \"black\"\n",
    "contour_style = \"--\"\n",
    "contour_dict = {\n",
    "    \"levels\": levels,\n",
    "    \"linewidths\": 0.5,\n",
    "    \"colors\": contour_color,\n",
    "    \"linestyles\": contour_style,\n",
    "}\n",
    "clabel_dict = {\n",
    "    \"inline\": True,\n",
    "    \"fmt\": \"%1.0f\",\n",
    "    \"fontsize\": 6,\n",
    "    \"inline_spacing\": 0.5,\n",
    "}\n",
    "font_dict = {\n",
    "    \"fontsize\": 5,\n",
    "    \"color\": \"black\",\n",
    "}\n",
    "grid_dict = {\n",
    "    \"lw\": 0.25,\n",
    "    \"color\": \"0.5\",\n",
    "}\n",
    "refinement_dict = {\n",
    "    \"color\": \"magenta\",\n",
    "    \"ls\": \":\",\n",
    "    \"lw\": 1.0,\n",
    "}\n",
    "river_dict = {\n",
    "    \"color\": \"blue\",\n",
    "    \"linestyle\": \"-\",\n",
    "    \"linewidth\": 1,\n",
    "}\n",
    "intersection_cmap = \"Pastel2\"\n",
    "temp_cmap = mpl.colormaps[intersection_cmap]\n",
    "intersection_rgba = temp_cmap(0)"
   ]
  },
  {
   "cell_type": "code",
   "execution_count": null,
   "id": "49c06c3e",
   "metadata": {
    "execution": {
     "iopub.execute_input": "2025-05-13T01:45:10.976878Z",
     "iopub.status.busy": "2025-05-13T01:45:10.976711Z",
     "iopub.status.idle": "2025-05-13T01:45:10.979171Z",
     "shell.execute_reply": "2025-05-13T01:45:10.978735Z"
    }
   },
   "outputs": [],
   "source": [
    "# make a temporary working directory for gridgen output\n",
    "temp_path = \"./temp\"\n",
    "if not os.path.isdir(temp_path):\n",
    "    os.mkdir(temp_path)"
   ]
  },
  {
   "cell_type": "code",
   "execution_count": null,
   "id": "bff99657",
   "metadata": {
    "execution": {
     "iopub.execute_input": "2025-05-13T01:45:10.980791Z",
     "iopub.status.busy": "2025-05-13T01:45:10.980388Z",
     "iopub.status.idle": "2025-05-13T01:45:11.036305Z",
     "shell.execute_reply": "2025-05-13T01:45:11.035785Z"
    }
   },
   "outputs": [],
   "source": [
    "# Load the fine topography that will be sampled\n",
    "fname = data_path / \"groundwater2023\" / \"fine_topo.asc\"\n",
    "fine_topo = flopy.utils.Raster.load(fname)"
   ]
  },
  {
   "cell_type": "markdown",
   "id": "dcb049d1",
   "metadata": {},
   "source": [
    "Define the problem size and extents"
   ]
  },
  {
   "cell_type": "code",
   "execution_count": null,
   "id": "50f084cc",
   "metadata": {
    "execution": {
     "iopub.execute_input": "2025-05-13T01:45:11.038463Z",
     "iopub.status.busy": "2025-05-13T01:45:11.037986Z",
     "iopub.status.idle": "2025-05-13T01:45:11.041364Z",
     "shell.execute_reply": "2025-05-13T01:45:11.040905Z"
    }
   },
   "outputs": [],
   "source": [
    "Lx = 180000\n",
    "Ly = 100000\n",
    "extent = (0, Lx, 0, Ly)\n",
    "vmin, vmax = 0.0, 100.0"
   ]
  },
  {
   "cell_type": "markdown",
   "id": "44895f6b",
   "metadata": {},
   "source": [
    "Create boundary and river data that will be used to refine the unstructured grids"
   ]
  },
  {
   "cell_type": "code",
   "execution_count": null,
   "id": "93ee8947",
   "metadata": {
    "execution": {
     "iopub.execute_input": "2025-05-13T01:45:11.042863Z",
     "iopub.status.busy": "2025-05-13T01:45:11.042667Z",
     "iopub.status.idle": "2025-05-13T01:45:11.153532Z",
     "shell.execute_reply": "2025-05-13T01:45:11.153000Z"
    }
   },
   "outputs": [],
   "source": [
    "boundary_polygon = string2geom(geometries[\"boundary\"])\n",
    "bp = np.array(boundary_polygon)\n",
    "\n",
    "sgs = [string2geom(geometries[f\"streamseg{i}\"]) for i in range(1, 5)]\n",
    "\n",
    "fig = plt.figure(figsize=figsize)\n",
    "ax = fig.add_subplot()\n",
    "ax.set_aspect(\"equal\")\n",
    "\n",
    "riv_colors = (\"blue\", \"cyan\", \"green\", \"orange\", \"red\")\n",
    "\n",
    "ax.plot(bp[:, 0], bp[:, 1], \"ko-\")\n",
    "for idx, sg in enumerate(sgs):\n",
    "    sa = np.array(sg)\n",
    "    ax.plot(sa[:, 0], sa[:, 1], color=riv_colors[idx], lw=0.75, marker=\"o\")"
   ]
  },
  {
   "cell_type": "markdown",
   "id": "4f36bac9",
   "metadata": {},
   "source": [
    "## Structured Grids\n",
    "\n",
    "### Structured grid with constant row and column spacing"
   ]
  },
  {
   "cell_type": "code",
   "execution_count": null,
   "id": "972e8789",
   "metadata": {
    "execution": {
     "iopub.execute_input": "2025-05-13T01:45:11.155170Z",
     "iopub.status.busy": "2025-05-13T01:45:11.154999Z",
     "iopub.status.idle": "2025-05-13T01:45:11.226505Z",
     "shell.execute_reply": "2025-05-13T01:45:11.225999Z"
    }
   },
   "outputs": [],
   "source": [
    "dx = dy = 1666.66666667\n",
    "nlay = 1\n",
    "nrow = int(Ly / dy) + 1\n",
    "ncol = int(Lx / dx) + 1\n",
    "delr = np.array(ncol * [dx])\n",
    "delc = np.array(nrow * [dy])\n",
    "top = np.ones((nrow, ncol)) * 1000.0\n",
    "botm = np.ones((nlay, nrow, ncol)) * -100.0\n",
    "struct_grid = StructuredGrid(\n",
    "    nlay=nlay, delr=delr, delc=delc, xoff=0.0, yoff=0.0, top=top, botm=botm\n",
    ")\n",
    "\n",
    "set_idomain(struct_grid, boundary_polygon)"
   ]
  },
  {
   "cell_type": "code",
   "execution_count": null,
   "id": "1fb51963",
   "metadata": {
    "execution": {
     "iopub.execute_input": "2025-05-13T01:45:11.228342Z",
     "iopub.status.busy": "2025-05-13T01:45:11.228180Z",
     "iopub.status.idle": "2025-05-13T01:45:11.708623Z",
     "shell.execute_reply": "2025-05-13T01:45:11.708141Z"
    }
   },
   "outputs": [],
   "source": [
    "top_sg = fine_topo.resample_to_grid(\n",
    "    struct_grid,\n",
    "    band=fine_topo.bands[0],\n",
    "    method=\"linear\",\n",
    "    extrapolate_edges=True,\n",
    ")"
   ]
  },
  {
   "cell_type": "code",
   "execution_count": null,
   "id": "434da1d0",
   "metadata": {
    "execution": {
     "iopub.execute_input": "2025-05-13T01:45:11.711108Z",
     "iopub.status.busy": "2025-05-13T01:45:11.710800Z",
     "iopub.status.idle": "2025-05-13T01:45:11.849072Z",
     "shell.execute_reply": "2025-05-13T01:45:11.848525Z"
    }
   },
   "outputs": [],
   "source": [
    "ixs = flopy.utils.GridIntersect(struct_grid, method=\"structured\")\n",
    "cellids = []\n",
    "for sg in sgs:\n",
    "    v = ixs.intersect(LineString(sg), sort_by_cellid=True)\n",
    "    cellids += v[\"cellids\"].tolist()\n",
    "intersection_sg = np.zeros(struct_grid.shape[1:])\n",
    "for loc in cellids:\n",
    "    intersection_sg[loc] = 1"
   ]
  },
  {
   "cell_type": "code",
   "execution_count": null,
   "id": "c8bc83d1",
   "metadata": {
    "execution": {
     "iopub.execute_input": "2025-05-13T01:45:11.850871Z",
     "iopub.status.busy": "2025-05-13T01:45:11.850677Z",
     "iopub.status.idle": "2025-05-13T01:45:12.014409Z",
     "shell.execute_reply": "2025-05-13T01:45:12.013853Z"
    }
   },
   "outputs": [],
   "source": [
    "fig = plt.figure(figsize=figsize)\n",
    "ax = fig.add_subplot()\n",
    "pmv = flopy.plot.PlotMapView(modelgrid=struct_grid)\n",
    "ax.set_aspect(\"equal\")\n",
    "pmv.plot_array(top_sg)\n",
    "pmv.plot_array(intersection_sg, masked_values=[0], alpha=0.2, cmap=\"Reds_r\")\n",
    "pmv.plot_grid(lw=0.25, color=\"0.5\")\n",
    "cg = pmv.contour_array(top_sg, levels=levels, linewidths=0.3, colors=\"0.75\")\n",
    "pmv.plot_inactive()\n",
    "\n",
    "ax.plot(bp[:, 0], bp[:, 1], \"k-\")\n",
    "for sg in sgs:\n",
    "    sa = np.array(sg)\n",
    "    ax.plot(sa[:, 0], sa[:, 1], \"b-\")"
   ]
  },
  {
   "cell_type": "markdown",
   "id": "09d6964a",
   "metadata": {},
   "source": [
    "### Structured grid with variable row and column spacing"
   ]
  },
  {
   "cell_type": "code",
   "execution_count": null,
   "id": "25408de0",
   "metadata": {
    "execution": {
     "iopub.execute_input": "2025-05-13T01:45:12.016416Z",
     "iopub.status.busy": "2025-05-13T01:45:12.016040Z",
     "iopub.status.idle": "2025-05-13T01:45:12.020146Z",
     "shell.execute_reply": "2025-05-13T01:45:12.019711Z"
    }
   },
   "outputs": [],
   "source": [
    "dx = dy = 5000\n",
    "\n",
    "# create transition cells\n",
    "multiplier = 1.175\n",
    "transition = 20000.0\n",
    "ncells = 7\n",
    "smoothr = [transition * (multiplier - 1.0) / (multiplier ** float(ncells) - 1.0)]\n",
    "for i in range(ncells - 1):\n",
    "    smoothr.append(smoothr[i] * multiplier)\n",
    "smooth = smoothr.copy()\n",
    "smooth.reverse()"
   ]
  },
  {
   "cell_type": "code",
   "execution_count": null,
   "id": "3164c53d",
   "metadata": {
    "execution": {
     "iopub.execute_input": "2025-05-13T01:45:12.022047Z",
     "iopub.status.busy": "2025-05-13T01:45:12.021566Z",
     "iopub.status.idle": "2025-05-13T01:45:12.053682Z",
     "shell.execute_reply": "2025-05-13T01:45:12.053168Z"
    }
   },
   "outputs": [],
   "source": [
    "# build the structured grid with variable row and column spacing\n",
    "dx = 9 * [5000] + smooth + 15 * [1666.66666667] + smoothr + 14 * [5000]\n",
    "dy = 4 * [5000] + smooth + 12 * [1666.66666667] + smoothr + 4 * [5000]\n",
    "\n",
    "nlay = 1\n",
    "ncol = len(dx)\n",
    "nrow = len(dy)\n",
    "\n",
    "top = np.ones((nrow, ncol)) * 1000.0\n",
    "botm = np.ones((nlay, nrow, ncol)) * -100.0\n",
    "\n",
    "delr = np.array(dx)\n",
    "delc = np.array(dy)\n",
    "struct_vrc_grid = StructuredGrid(\n",
    "    nlay=nlay,\n",
    "    delr=delr,\n",
    "    delc=delc,\n",
    "    xoff=0.0,\n",
    "    yoff=0.0,\n",
    "    top=top,\n",
    "    botm=botm,\n",
    ")\n",
    "set_idomain(struct_vrc_grid, boundary_polygon)"
   ]
  },
  {
   "cell_type": "code",
   "execution_count": null,
   "id": "0f40f9d6",
   "metadata": {
    "execution": {
     "iopub.execute_input": "2025-05-13T01:45:12.055797Z",
     "iopub.status.busy": "2025-05-13T01:45:12.055365Z",
     "iopub.status.idle": "2025-05-13T01:45:12.336315Z",
     "shell.execute_reply": "2025-05-13T01:45:12.335774Z"
    }
   },
   "outputs": [],
   "source": [
    "top_sg_vrc = fine_topo.resample_to_grid(\n",
    "    struct_vrc_grid,\n",
    "    band=fine_topo.bands[0],\n",
    "    method=\"linear\",\n",
    "    extrapolate_edges=True,\n",
    ")"
   ]
  },
  {
   "cell_type": "code",
   "execution_count": null,
   "id": "6c1950da",
   "metadata": {
    "execution": {
     "iopub.execute_input": "2025-05-13T01:45:12.338606Z",
     "iopub.status.busy": "2025-05-13T01:45:12.338419Z",
     "iopub.status.idle": "2025-05-13T01:45:12.434277Z",
     "shell.execute_reply": "2025-05-13T01:45:12.433693Z"
    }
   },
   "outputs": [],
   "source": [
    "ixs = flopy.utils.GridIntersect(struct_vrc_grid, method=\"structured\")\n",
    "cellids = []\n",
    "for sg in sgs:\n",
    "    v = ixs.intersect(LineString(sg), sort_by_cellid=True)\n",
    "    cellids += v[\"cellids\"].tolist()\n",
    "intersection_sg_vrc = np.zeros(struct_vrc_grid.shape[1:])\n",
    "for loc in cellids:\n",
    "    intersection_sg_vrc[loc] = 1"
   ]
  },
  {
   "cell_type": "code",
   "execution_count": null,
   "id": "767dfbd5",
   "metadata": {
    "execution": {
     "iopub.execute_input": "2025-05-13T01:45:12.436301Z",
     "iopub.status.busy": "2025-05-13T01:45:12.436128Z",
     "iopub.status.idle": "2025-05-13T01:45:12.558035Z",
     "shell.execute_reply": "2025-05-13T01:45:12.557537Z"
    }
   },
   "outputs": [],
   "source": [
    "fig = plt.figure(figsize=figsize)\n",
    "ax = fig.add_subplot()\n",
    "pmv = flopy.plot.PlotMapView(modelgrid=struct_vrc_grid)\n",
    "ax.set_aspect(\"equal\")\n",
    "pmv.plot_array(top_sg_vrc)\n",
    "pmv.plot_array(intersection_sg_vrc, masked_values=[0], alpha=0.2, cmap=\"Reds_r\")\n",
    "cg = pmv.contour_array(top_sg_vrc, levels=levels, linewidths=0.3, colors=\"0.75\")\n",
    "pmv.plot_inactive()\n",
    "\n",
    "ax.plot(bp[:, 0], bp[:, 1], \"k-\")\n",
    "for sg in sgs:\n",
    "    sa = np.array(sg)\n",
    "    ax.plot(sa[:, 0], sa[:, 1], \"b-\", alpha=0.2)"
   ]
  },
  {
   "cell_type": "markdown",
   "id": "608c2f66",
   "metadata": {},
   "source": [
    "### Local grid refinement grid"
   ]
  },
  {
   "cell_type": "code",
   "execution_count": null,
   "id": "4e539d7a",
   "metadata": {
    "execution": {
     "iopub.execute_input": "2025-05-13T01:45:12.559704Z",
     "iopub.status.busy": "2025-05-13T01:45:12.559540Z",
     "iopub.status.idle": "2025-05-13T01:45:12.576020Z",
     "shell.execute_reply": "2025-05-13T01:45:12.575508Z"
    }
   },
   "outputs": [],
   "source": [
    "from flopy.utils.lgrutil import Lgr\n",
    "\n",
    "nlayp = 1\n",
    "dx = 5000\n",
    "nrowp = int(Ly / dx)\n",
    "ncolp = int(Lx / dx)\n",
    "delrp = dx\n",
    "delcp = dx\n",
    "# topp = 1000.0\n",
    "# botmp = [-100.]\n",
    "topp = np.ones((nrowp, ncolp)) * 1000.0\n",
    "botmp = np.ones((nlayp, nrowp, ncolp)) * -100.0\n",
    "\n",
    "idomainp = np.ones((nlayp, nrowp, ncolp), dtype=int)\n",
    "idomainp[0, 8:12, 13:18] = 0\n",
    "\n",
    "ncpp = 3\n",
    "ncppl = [1]\n",
    "\n",
    "lgr = Lgr(\n",
    "    nlayp,\n",
    "    nrowp,\n",
    "    ncolp,\n",
    "    delrp,\n",
    "    delcp,\n",
    "    topp,\n",
    "    botmp,\n",
    "    idomainp,\n",
    "    ncpp=ncpp,\n",
    "    ncppl=ncppl,\n",
    "    xllp=0.0,\n",
    "    yllp=0.0,\n",
    ")\n",
    "\n",
    "delr = np.array(ncolp * [dx])\n",
    "delc = np.array(nrowp * [dx])\n",
    "struct_gridp = StructuredGrid(\n",
    "    nlay=1, delr=delr, delc=delc, idomain=idomainp, top=topp, botm=botmp\n",
    ")\n",
    "set_idomain(struct_gridp, boundary_polygon)\n",
    "\n",
    "delr_child, delc_child = lgr.get_delr_delc()\n",
    "xoff, yoff = lgr.get_lower_left()\n",
    "nrowc, ncolc = delc_child.shape[0], delr_child.shape[0]\n",
    "topc = np.ones((nrowc, ncolc)) * 1000.0\n",
    "botmc = np.ones((nlayp, nrowc, ncolc)) * -100.0\n",
    "struct_gridc = StructuredGrid(\n",
    "    delr=delr_child,\n",
    "    delc=delc_child,\n",
    "    xoff=xoff,\n",
    "    yoff=yoff,\n",
    "    idomain=idomainp,\n",
    "    top=topc,\n",
    "    botm=botmc,\n",
    ")\n",
    "\n",
    "extent_child = struct_gridc.extent\n",
    "\n",
    "nested_grid = [struct_gridp, struct_gridc]"
   ]
  },
  {
   "cell_type": "code",
   "execution_count": null,
   "id": "9597aa7a",
   "metadata": {
    "execution": {
     "iopub.execute_input": "2025-05-13T01:45:12.577892Z",
     "iopub.status.busy": "2025-05-13T01:45:12.577516Z",
     "iopub.status.idle": "2025-05-13T01:45:13.034295Z",
     "shell.execute_reply": "2025-05-13T01:45:13.033747Z"
    }
   },
   "outputs": [],
   "source": [
    "top_ngp = fine_topo.resample_to_grid(\n",
    "    struct_gridp,\n",
    "    band=fine_topo.bands[0],\n",
    "    method=\"linear\",\n",
    "    extrapolate_edges=True,\n",
    ")\n",
    "top_ngc = fine_topo.resample_to_grid(\n",
    "    struct_gridc,\n",
    "    band=fine_topo.bands[0],\n",
    "    method=\"linear\",\n",
    "    extrapolate_edges=True,\n",
    ")\n",
    "top_nested_grid = [top_ngp, top_ngc]"
   ]
  },
  {
   "cell_type": "code",
   "execution_count": null,
   "id": "41c6417e",
   "metadata": {
    "execution": {
     "iopub.execute_input": "2025-05-13T01:45:13.036482Z",
     "iopub.status.busy": "2025-05-13T01:45:13.036303Z",
     "iopub.status.idle": "2025-05-13T01:45:13.117570Z",
     "shell.execute_reply": "2025-05-13T01:45:13.117014Z"
    }
   },
   "outputs": [],
   "source": [
    "ixs = flopy.utils.GridIntersect(struct_gridp, method=\"structured\")\n",
    "cellids = []\n",
    "for sg in sgs:\n",
    "    v = ixs.intersect(LineString(sg), sort_by_cellid=True)\n",
    "    cellids += v[\"cellids\"].tolist()\n",
    "intersection_ngp = np.zeros(struct_gridp.shape[1:])\n",
    "for loc in cellids:\n",
    "    intersection_ngp[loc] = 1\n",
    "intersection_ngp[idomainp[0] == 0] = 0\n",
    "\n",
    "ixs = flopy.utils.GridIntersect(struct_gridc, method=\"structured\")\n",
    "cellids = []\n",
    "for sg in sgs:\n",
    "    v = ixs.intersect(LineString(sg), sort_by_cellid=True)\n",
    "    cellids += v[\"cellids\"].tolist()\n",
    "intersection_ngc = np.zeros(struct_gridc.shape[1:])\n",
    "for loc in cellids:\n",
    "    intersection_ngc[loc] = 1\n",
    "\n",
    "intersection_nested_grid = [intersection_ngp, intersection_ngc]"
   ]
  },
  {
   "cell_type": "code",
   "execution_count": null,
   "id": "0763cb5b",
   "metadata": {
    "execution": {
     "iopub.execute_input": "2025-05-13T01:45:13.119325Z",
     "iopub.status.busy": "2025-05-13T01:45:13.119147Z",
     "iopub.status.idle": "2025-05-13T01:45:13.255537Z",
     "shell.execute_reply": "2025-05-13T01:45:13.255019Z"
    }
   },
   "outputs": [],
   "source": [
    "fig = plt.figure(figsize=figsize)\n",
    "ax = fig.add_subplot()\n",
    "pmv = flopy.plot.PlotMapView(modelgrid=struct_gridp, extent=extent)\n",
    "pmv.plot_inactive()\n",
    "pmv.plot_array(top_ngp, vmin=vmin, vmax=vmax)\n",
    "pmv.plot_array(intersection_nested_grid[0], masked_values=[0], alpha=0.2, cmap=\"Reds_r\")\n",
    "cgp = pmv.contour_array(top_ngp, levels=levels, linewidths=0.3, colors=\"0.75\")\n",
    "pmv.plot_inactive(zorder=100)\n",
    "ax.set_aspect(\"equal\")\n",
    "\n",
    "pmvc = flopy.plot.PlotMapView(modelgrid=struct_gridc, ax=ax, extent=extent)\n",
    "# pmvc.plot_grid()\n",
    "pmvc.plot_array(top_ngc, vmin=vmin, vmax=vmax)\n",
    "pmvc.plot_array(\n",
    "    intersection_nested_grid[1], masked_values=[0], alpha=0.2, cmap=\"Reds_r\"\n",
    ")\n",
    "cgc = pmvc.contour_array(top_ngc, levels=levels, linewidths=0.3, colors=\"0.75\")\n",
    "\n",
    "ax.plot(bp[:, 0], bp[:, 1], \"k-\")\n",
    "for sg in sgs:\n",
    "    sa = np.array(sg)\n",
    "    ax.plot(sa[:, 0], sa[:, 1], \"b-\")"
   ]
  },
  {
   "cell_type": "markdown",
   "id": "2bb0f8ab",
   "metadata": {},
   "source": [
    "## Unstructured grids"
   ]
  },
  {
   "cell_type": "code",
   "execution_count": null,
   "id": "f2bafda3",
   "metadata": {
    "execution": {
     "iopub.execute_input": "2025-05-13T01:45:13.257521Z",
     "iopub.status.busy": "2025-05-13T01:45:13.257092Z",
     "iopub.status.idle": "2025-05-13T01:45:13.260239Z",
     "shell.execute_reply": "2025-05-13T01:45:13.259868Z"
    }
   },
   "outputs": [],
   "source": [
    "# create a polygon of the common refinement area for the quadtree grid\n",
    "lgr_poly = [\n",
    "    [\n",
    "        (extent_child[0], extent_child[2]),\n",
    "        (extent_child[0], extent_child[3]),\n",
    "        (extent_child[1], extent_child[3]),\n",
    "        (extent_child[1], extent_child[2]),\n",
    "        (extent_child[0], extent_child[2]),\n",
    "    ]\n",
    "]"
   ]
  },
  {
   "cell_type": "markdown",
   "id": "3d9dec46",
   "metadata": {},
   "source": [
    "### Quadtree grid"
   ]
  },
  {
   "cell_type": "code",
   "execution_count": null,
   "id": "6b4bdfdb",
   "metadata": {
    "execution": {
     "iopub.execute_input": "2025-05-13T01:45:13.261963Z",
     "iopub.status.busy": "2025-05-13T01:45:13.261596Z",
     "iopub.status.idle": "2025-05-13T01:45:14.238271Z",
     "shell.execute_reply": "2025-05-13T01:45:14.237748Z"
    }
   },
   "outputs": [],
   "source": [
    "sim = flopy.mf6.MFSimulation()\n",
    "gwf = gwf = flopy.mf6.ModflowGwf(sim)\n",
    "dx = dy = 5000.0\n",
    "nr = int(Ly / dy)\n",
    "nc = int(Lx / dx)\n",
    "dis6 = flopy.mf6.ModflowGwfdis(\n",
    "    gwf,\n",
    "    nrow=nr,\n",
    "    ncol=nc,\n",
    "    delr=dy,\n",
    "    delc=dx,\n",
    ")\n",
    "g = Gridgen(gwf.modelgrid, model_ws=temp_path)\n",
    "adpoly = [[[(1000, 1000), (3000, 1000), (3000, 2000), (1000, 2000), (1000, 1000)]]]\n",
    "adpoly = boundary_polygon + [boundary_polygon[0]]\n",
    "adpoly = [[adpoly]]\n",
    "g.add_refinement_features([lgr_poly], \"polygon\", 2, range(1))\n",
    "\n",
    "refine_line = sgs\n",
    "g.add_refinement_features(refine_line, \"line\", 2, range(1))\n",
    "g.build(verbose=False)\n",
    "\n",
    "gridprops_vg = g.get_gridprops_vertexgrid()\n",
    "quadtree_grid = flopy.discretization.VertexGrid(**gridprops_vg)\n",
    "set_idomain(quadtree_grid, boundary_polygon)"
   ]
  },
  {
   "cell_type": "code",
   "execution_count": null,
   "id": "ba826523",
   "metadata": {
    "execution": {
     "iopub.execute_input": "2025-05-13T01:45:14.240142Z",
     "iopub.status.busy": "2025-05-13T01:45:14.239982Z",
     "iopub.status.idle": "2025-05-13T01:45:14.489589Z",
     "shell.execute_reply": "2025-05-13T01:45:14.488984Z"
    }
   },
   "outputs": [],
   "source": [
    "top_qg = fine_topo.resample_to_grid(\n",
    "    quadtree_grid,\n",
    "    band=fine_topo.bands[0],\n",
    "    method=\"linear\",\n",
    "    extrapolate_edges=True,\n",
    ")"
   ]
  },
  {
   "cell_type": "code",
   "execution_count": null,
   "id": "fffac56e",
   "metadata": {
    "execution": {
     "iopub.execute_input": "2025-05-13T01:45:14.491846Z",
     "iopub.status.busy": "2025-05-13T01:45:14.491637Z",
     "iopub.status.idle": "2025-05-13T01:45:14.662804Z",
     "shell.execute_reply": "2025-05-13T01:45:14.662271Z"
    }
   },
   "outputs": [],
   "source": [
    "ixs = flopy.utils.GridIntersect(quadtree_grid, method=\"vertex\")\n",
    "cellids = []\n",
    "for sg in sgs:\n",
    "    v = ixs.intersect(LineString(sg), sort_by_cellid=True)\n",
    "    cellids += v[\"cellids\"].tolist()\n",
    "intersection_qg = np.zeros(quadtree_grid.shape[1:])\n",
    "for loc in cellids:\n",
    "    intersection_qg[loc] = 1"
   ]
  },
  {
   "cell_type": "code",
   "execution_count": null,
   "id": "84c329bf",
   "metadata": {
    "execution": {
     "iopub.execute_input": "2025-05-13T01:45:14.664629Z",
     "iopub.status.busy": "2025-05-13T01:45:14.664465Z",
     "iopub.status.idle": "2025-05-13T01:45:14.857042Z",
     "shell.execute_reply": "2025-05-13T01:45:14.856496Z"
    }
   },
   "outputs": [],
   "source": [
    "fig = plt.figure(figsize=figsize)\n",
    "ax = fig.add_subplot()\n",
    "pmv = flopy.plot.PlotMapView(modelgrid=quadtree_grid)\n",
    "pmv.plot_array(top_qg, ec=\"0.75\")\n",
    "pmv.plot_array(intersection_qg, masked_values=[0], alpha=0.2, cmap=\"Reds_r\")\n",
    "cg = pmv.contour_array(top_qg, levels=levels, linewidths=0.3, colors=\"white\")\n",
    "pmv.plot_inactive(zorder=100)\n",
    "ax.set_aspect(\"equal\")\n",
    "\n",
    "ax.plot(bp[:, 0], bp[:, 1], \"k-\")\n",
    "for sg in sgs:\n",
    "    sa = np.array(sg)\n",
    "    ax.plot(sa[:, 0], sa[:, 1], \"b-\")"
   ]
  },
  {
   "cell_type": "markdown",
   "id": "18ad609a",
   "metadata": {},
   "source": [
    "### Triangular grid"
   ]
  },
  {
   "cell_type": "code",
   "execution_count": null,
   "id": "3fc8f9bc",
   "metadata": {
    "execution": {
     "iopub.execute_input": "2025-05-13T01:45:14.858807Z",
     "iopub.status.busy": "2025-05-13T01:45:14.858597Z",
     "iopub.status.idle": "2025-05-13T01:45:14.880939Z",
     "shell.execute_reply": "2025-05-13T01:45:14.880382Z"
    }
   },
   "outputs": [],
   "source": [
    "nodes = []\n",
    "for sg in sgs:\n",
    "    sg_densify = densify_geometry(sg, 2000)\n",
    "    nodes.extend(sg_densify)\n",
    "for x in struct_gridc.get_xvertices_for_layer(0)[0, :]:\n",
    "    for y in struct_gridc.get_yvertices_for_layer(0)[:, 0]:\n",
    "        nodes.append((x, y))\n",
    "nodes = np.array(nodes)"
   ]
  },
  {
   "cell_type": "code",
   "execution_count": null,
   "id": "aaefcd4e",
   "metadata": {
    "execution": {
     "iopub.execute_input": "2025-05-13T01:45:14.882919Z",
     "iopub.status.busy": "2025-05-13T01:45:14.882746Z",
     "iopub.status.idle": "2025-05-13T01:45:15.201688Z",
     "shell.execute_reply": "2025-05-13T01:45:15.201151Z"
    }
   },
   "outputs": [],
   "source": [
    "tri = Triangle(maximum_area=5000 * 5000, angle=30, nodes=nodes, model_ws=temp_path)\n",
    "poly = bp\n",
    "tri.add_polygon(poly)\n",
    "tri.build(verbose=False)\n",
    "\n",
    "\n",
    "cell2d = tri.get_cell2d()\n",
    "vertices = tri.get_vertices()\n",
    "\n",
    "top = np.ones(tri.ncpl) * 1000.0\n",
    "botm = np.ones((1, tri.ncpl)) * -100.0\n",
    "idomain = np.ones((1, tri.ncpl), dtype=int)\n",
    "\n",
    "triangular_grid = VertexGrid(\n",
    "    vertices=vertices,\n",
    "    cell2d=cell2d,\n",
    "    idomain=idomain,\n",
    "    nlay=1,\n",
    "    ncpl=tri.ncpl,\n",
    "    top=top,\n",
    "    botm=botm,\n",
    ")"
   ]
  },
  {
   "cell_type": "code",
   "execution_count": null,
   "id": "1d67b8a6",
   "metadata": {
    "execution": {
     "iopub.execute_input": "2025-05-13T01:45:15.203460Z",
     "iopub.status.busy": "2025-05-13T01:45:15.203299Z",
     "iopub.status.idle": "2025-05-13T01:45:15.439047Z",
     "shell.execute_reply": "2025-05-13T01:45:15.438461Z"
    }
   },
   "outputs": [],
   "source": [
    "top_tg = fine_topo.resample_to_grid(\n",
    "    triangular_grid,\n",
    "    band=fine_topo.bands[0],\n",
    "    method=\"linear\",\n",
    "    extrapolate_edges=True,\n",
    ")"
   ]
  },
  {
   "cell_type": "code",
   "execution_count": null,
   "id": "215addaf",
   "metadata": {
    "execution": {
     "iopub.execute_input": "2025-05-13T01:45:15.440902Z",
     "iopub.status.busy": "2025-05-13T01:45:15.440693Z",
     "iopub.status.idle": "2025-05-13T01:45:15.657006Z",
     "shell.execute_reply": "2025-05-13T01:45:15.656441Z"
    }
   },
   "outputs": [],
   "source": [
    "ixs = flopy.utils.GridIntersect(triangular_grid)  # , method=\"vertex\")\n",
    "cellids = []\n",
    "for sg in sgs:\n",
    "    v = ixs.intersect(\n",
    "        LineString(sg),\n",
    "        return_all_intersections=True,\n",
    "        keepzerolengths=False,\n",
    "        sort_by_cellid=True,\n",
    "    )\n",
    "    cellids += v[\"cellids\"].tolist()\n",
    "intersection_tg = np.zeros(triangular_grid.shape[1:])\n",
    "for loc in cellids:\n",
    "    intersection_tg[loc] = 1"
   ]
  },
  {
   "cell_type": "code",
   "execution_count": null,
   "id": "efb1bd33",
   "metadata": {
    "execution": {
     "iopub.execute_input": "2025-05-13T01:45:15.658990Z",
     "iopub.status.busy": "2025-05-13T01:45:15.658826Z",
     "iopub.status.idle": "2025-05-13T01:45:15.911840Z",
     "shell.execute_reply": "2025-05-13T01:45:15.911262Z"
    }
   },
   "outputs": [],
   "source": [
    "fig = plt.figure(figsize=figsize)\n",
    "ax = fig.add_subplot()\n",
    "ax.set_aspect(\"equal\")\n",
    "\n",
    "pmv = flopy.plot.PlotMapView(modelgrid=triangular_grid)\n",
    "\n",
    "pmv.plot_array(top_tg, ec=\"0.75\")\n",
    "pmv.plot_array(intersection_tg, masked_values=[0], alpha=0.2, cmap=\"Reds_r\")\n",
    "cg = pmv.contour_array(top_tg, levels=levels, linewidths=0.3, colors=\"white\")\n",
    "ax.clabel(cg, cg.levels, inline=True, fmt=\"%1.0f\", fontsize=10)\n",
    "\n",
    "pmv.plot_inactive(zorder=100)\n",
    "\n",
    "if True:\n",
    "    ax.plot(bp[:, 0], bp[:, 1], \"k-\")\n",
    "    for sg in sgs:\n",
    "        sa = np.array(sg)\n",
    "        ax.plot(sa[:, 0], sa[:, 1], \"b-\")"
   ]
  },
  {
   "cell_type": "markdown",
   "id": "0a1670ef",
   "metadata": {},
   "source": [
    "### Voronoi Grid from the Triangle object"
   ]
  },
  {
   "cell_type": "code",
   "execution_count": null,
   "id": "4284f021",
   "metadata": {
    "execution": {
     "iopub.execute_input": "2025-05-13T01:45:15.914504Z",
     "iopub.status.busy": "2025-05-13T01:45:15.914116Z",
     "iopub.status.idle": "2025-05-13T01:45:16.025464Z",
     "shell.execute_reply": "2025-05-13T01:45:16.024949Z"
    }
   },
   "outputs": [],
   "source": [
    "# create vor object and VertexGrid from the triangle object tri\n",
    "vor = VoronoiGrid(tri)\n",
    "gridprops = vor.get_gridprops_vertexgrid()\n",
    "idomain = np.ones((1, vor.ncpl), dtype=int)\n",
    "voronoi_grid = VertexGrid(**gridprops, nlay=1, idomain=idomain)"
   ]
  },
  {
   "cell_type": "code",
   "execution_count": null,
   "id": "c884e989",
   "metadata": {
    "execution": {
     "iopub.execute_input": "2025-05-13T01:45:16.027752Z",
     "iopub.status.busy": "2025-05-13T01:45:16.027245Z",
     "iopub.status.idle": "2025-05-13T01:45:16.288836Z",
     "shell.execute_reply": "2025-05-13T01:45:16.288372Z"
    }
   },
   "outputs": [],
   "source": [
    "top_vg = fine_topo.resample_to_grid(\n",
    "    voronoi_grid,\n",
    "    band=fine_topo.bands[0],\n",
    "    method=\"linear\",\n",
    "    extrapolate_edges=True,\n",
    ")"
   ]
  },
  {
   "cell_type": "code",
   "execution_count": null,
   "id": "e7dbd0dc",
   "metadata": {
    "execution": {
     "iopub.execute_input": "2025-05-13T01:45:16.292651Z",
     "iopub.status.busy": "2025-05-13T01:45:16.292481Z",
     "iopub.status.idle": "2025-05-13T01:45:16.430943Z",
     "shell.execute_reply": "2025-05-13T01:45:16.430383Z"
    }
   },
   "outputs": [],
   "source": [
    "ixs = flopy.utils.GridIntersect(voronoi_grid, method=\"vertex\")\n",
    "cellids = []\n",
    "for sg in sgs:\n",
    "    v = ixs.intersect(\n",
    "        LineString(sg),\n",
    "        return_all_intersections=True,\n",
    "        keepzerolengths=False,\n",
    "        sort_by_cellid=True,\n",
    "    )\n",
    "    cellids += v[\"cellids\"].tolist()\n",
    "intersection_vg = np.zeros(voronoi_grid.shape[1:])\n",
    "for loc in cellids:\n",
    "    intersection_vg[loc] = 1"
   ]
  },
  {
   "cell_type": "code",
   "execution_count": null,
   "id": "eb64935d",
   "metadata": {
    "execution": {
     "iopub.execute_input": "2025-05-13T01:45:16.432986Z",
     "iopub.status.busy": "2025-05-13T01:45:16.432811Z",
     "iopub.status.idle": "2025-05-13T01:45:16.595470Z",
     "shell.execute_reply": "2025-05-13T01:45:16.594911Z"
    }
   },
   "outputs": [],
   "source": [
    "fig = plt.figure(figsize=figsize)\n",
    "ax = fig.add_subplot()\n",
    "pmv = flopy.plot.PlotMapView(modelgrid=voronoi_grid)\n",
    "ax.set_aspect(\"equal\")\n",
    "pmv.plot_array(top_vg)\n",
    "pmv.plot_array(intersection_vg, masked_values=[0], alpha=0.2, cmap=\"Reds_r\")\n",
    "pmv.plot_inactive()\n",
    "ax.plot(bp[:, 0], bp[:, 1], \"k-\")\n",
    "for sg in sgs:\n",
    "    sa = np.array(sg)\n",
    "    ax.plot(sa[:, 0], sa[:, 1], \"b-\")\n",
    "\n",
    "cg = pmv.contour_array(top_vg, levels=levels, linewidths=0.3, colors=\"0.75\")"
   ]
  },
  {
   "cell_type": "markdown",
   "id": "4c0a198e",
   "metadata": {},
   "source": [
    "## Plot all six grids\n",
    "\n",
    "### Create a polyline for Local Grid Refinement area"
   ]
  },
  {
   "cell_type": "code",
   "execution_count": null,
   "id": "aaf0502c",
   "metadata": {
    "execution": {
     "iopub.execute_input": "2025-05-13T01:45:16.597123Z",
     "iopub.status.busy": "2025-05-13T01:45:16.596959Z",
     "iopub.status.idle": "2025-05-13T01:45:16.599641Z",
     "shell.execute_reply": "2025-05-13T01:45:16.599168Z"
    }
   },
   "outputs": [],
   "source": [
    "lgr_poly_array = np.array(lgr_poly).squeeze()"
   ]
  },
  {
   "cell_type": "markdown",
   "id": "74dec5fe",
   "metadata": {},
   "source": [
    "### Plot the grids"
   ]
  },
  {
   "cell_type": "code",
   "execution_count": null,
   "id": "b8949a11",
   "metadata": {
    "execution": {
     "iopub.execute_input": "2025-05-13T01:45:16.601287Z",
     "iopub.status.busy": "2025-05-13T01:45:16.601132Z",
     "iopub.status.idle": "2025-05-13T01:45:17.944028Z",
     "shell.execute_reply": "2025-05-13T01:45:17.943500Z"
    },
    "tags": [
     "nbsphinx-thumbnail"
    ]
   },
   "outputs": [],
   "source": [
    "# Make a plot of the six grids\n",
    "figwidth = 17.15 / 2.54\n",
    "figheight = 3.66 * (Ly / Lx) * 8.25 / 2.54\n",
    "grids = [\n",
    "    struct_grid,\n",
    "    struct_vrc_grid,\n",
    "    nested_grid,\n",
    "    quadtree_grid,\n",
    "    triangular_grid,\n",
    "    voronoi_grid,\n",
    "    None,\n",
    "]\n",
    "topo_grids = [top_sg, top_sg_vrc, top_nested_grid, top_qg, top_tg, top_vg]\n",
    "extent = (0, 180000, 0, 100000)\n",
    "cbar_axis = [0.0, 0.1, 0.25, 0.9]\n",
    "\n",
    "with styles.USGSMap():\n",
    "    fig = plt.figure(figsize=(figwidth, figheight), constrained_layout=True)\n",
    "    gs = gridspec.GridSpec(ncols=16, nrows=17, figure=fig)\n",
    "    axs = [fig.add_subplot(gs[:5, :8])]\n",
    "    axs.append(fig.add_subplot(gs[:5, 8:]))\n",
    "    axs.append(fig.add_subplot(gs[5:10, :8]))\n",
    "    axs.append(fig.add_subplot(gs[5:10, 8:]))\n",
    "    axs.append(fig.add_subplot(gs[10:15, :8]))\n",
    "    axs.append(fig.add_subplot(gs[10:15, 8:]))\n",
    "    axs.append(fig.add_subplot(gs[15:, :]))\n",
    "\n",
    "    for idx, ax in enumerate(axs[:-1]):\n",
    "        g = grids[idx]\n",
    "        t = topo_grids[idx]\n",
    "        if g is not None:\n",
    "            if isinstance(g, list):\n",
    "                g = g[0]\n",
    "                t = t[0]\n",
    "\n",
    "            pmv = flopy.plot.PlotMapView(modelgrid=g, ax=ax)\n",
    "\n",
    "            v = pmv.plot_array(t)\n",
    "            pmv.plot_grid(**grid_dict)\n",
    "            cg = pmv.contour_array(t, **contour_dict)\n",
    "            pmv.ax.clabel(cg, cg.levels, **clabel_dict)\n",
    "            pmv.plot_inactive(color_noflow=\"gray\", zorder=100)\n",
    "\n",
    "            if isinstance(grids[idx], list):\n",
    "                gg = grids[idx]\n",
    "                tt = topo_grids[idx]\n",
    "                for g, t in zip(gg[1:], tt[1:]):\n",
    "                    pmvc = flopy.plot.PlotMapView(modelgrid=g, ax=ax, extent=extent)\n",
    "                    pmvc.plot_array(top_ngc, vmin=vmin, vmax=vmax)\n",
    "                    pmvc.plot_grid(**grid_dict)\n",
    "                    cgc = pmvc.contour_array(top_ngc, **contour_dict)\n",
    "\n",
    "            # plot lgr polyline\n",
    "            ax.plot(\n",
    "                lgr_poly_array[:, 0],\n",
    "                lgr_poly_array[:, 1],\n",
    "                zorder=101,\n",
    "                **refinement_dict,\n",
    "            )\n",
    "\n",
    "            ax.set_aspect(\"equal\")\n",
    "            ax.set_axisbelow(False)\n",
    "\n",
    "            ax.set_xlim(extent[0], extent[1])\n",
    "            ax.set_xticks(np.arange(0, 200000, 50000))\n",
    "            if idx in (4, 5):\n",
    "                ax.set_xticklabels(np.arange(0, 200, 50))\n",
    "                ax.set_xlabel(\"x position (km)\")\n",
    "            else:\n",
    "                ax.set_xticklabels([])\n",
    "\n",
    "            ax.set_ylim(extent[2], extent[3])\n",
    "            ax.set_yticks(np.arange(0, 150000, 50000))\n",
    "            if idx in (0, 2, 4):\n",
    "                ax.set_yticklabels(np.arange(0, 150, 50))\n",
    "                ax.set_ylabel(\"y position (km)\")\n",
    "            else:\n",
    "                ax.set_yticklabels([])\n",
    "\n",
    "            styles.heading(ax, idx=idx)\n",
    "            if True:\n",
    "                ax.plot(bp[:, 0], bp[:, 1], \"k-\", lw=2.0)\n",
    "                for sg in sgs:\n",
    "                    sa = np.array(sg)\n",
    "                    ax.plot(sa[:, 0], sa[:, 1], **river_dict)\n",
    "\n",
    "    # legend\n",
    "    ax = axs[-1]\n",
    "    xy0 = (-100, -100)\n",
    "    ax.set_xlim(0, 1)\n",
    "    ax.set_ylim(0, 1)\n",
    "    ax.set_axis_off()\n",
    "\n",
    "    ax.axhline(xy0[0], color=\"black\", lw=2, label=\"Basin boundary\")\n",
    "    ax.axhline(xy0[0], **river_dict, label=\"River\")\n",
    "    ax.axhline(xy0[0], color=contour_color, lw=0.5, ls=\"--\", label=\"Elevation contour\")\n",
    "    ax.axhline(xy0[0], label=\"Grid refinement area\", **refinement_dict)\n",
    "    ax.axhline(\n",
    "        xy0[0],\n",
    "        marker=\"s\",\n",
    "        mec=\"0.5\",\n",
    "        mfc=\"white\",\n",
    "        markeredgewidth=0.25,\n",
    "        lw=0,\n",
    "        label=\"Grid cell\",\n",
    "    )\n",
    "    ax.axhline(\n",
    "        xy0[0],\n",
    "        marker=\"s\",\n",
    "        mec=\"0.5\",\n",
    "        mfc=\"gray\",\n",
    "        markeredgewidth=0.25,\n",
    "        lw=0,\n",
    "        label=\"Inactive area\",\n",
    "    )\n",
    "    styles.graph_legend(\n",
    "        ax,\n",
    "        ncol=3,\n",
    "        loc=\"lower center\",\n",
    "        labelspacing=0.5,\n",
    "        columnspacing=0.6,\n",
    "        handletextpad=0.3,\n",
    "    )\n",
    "\n",
    "    # colorbar\n",
    "    ax = fig.add_subplot(gs[15:, 14:])\n",
    "    ax.set_xlim(0, 1)\n",
    "    ax.set_ylim(0, 1)\n",
    "    ax.set_axis_off()\n",
    "    cax = ax.inset_axes(cbar_axis)\n",
    "    #     cax.set_axisbelow(False)\n",
    "    cbar = plt.colorbar(v, orientation=\"vertical\", cax=cax, ticks=[25, 50, 75, 100])\n",
    "    cbar.ax.tick_params(labelsize=5, labelcolor=\"black\", color=\"black\", length=9, pad=2)\n",
    "    cbar.ax.set_title(\"Elevation (m)\", pad=2.5, loc=\"center\", fontdict=font_dict)"
   ]
  },
  {
   "cell_type": "markdown",
   "id": "8d178e4d",
   "metadata": {},
   "source": [
    "### Plot the river intersection for the six grids"
   ]
  },
  {
   "cell_type": "code",
   "execution_count": null,
   "id": "cefa73e1",
   "metadata": {
    "execution": {
     "iopub.execute_input": "2025-05-13T01:45:17.947061Z",
     "iopub.status.busy": "2025-05-13T01:45:17.946891Z",
     "iopub.status.idle": "2025-05-13T01:45:18.951883Z",
     "shell.execute_reply": "2025-05-13T01:45:18.951291Z"
    }
   },
   "outputs": [],
   "source": [
    "figwidth = 17.15 / 2.54\n",
    "figheight = 3.66 * (Ly / Lx) * 8.25 / 2.54\n",
    "grids = [\n",
    "    struct_grid,\n",
    "    struct_vrc_grid,\n",
    "    nested_grid,\n",
    "    quadtree_grid,\n",
    "    triangular_grid,\n",
    "    voronoi_grid,\n",
    "    None,\n",
    "]\n",
    "intersections = [\n",
    "    intersection_sg,\n",
    "    intersection_sg_vrc,\n",
    "    intersection_nested_grid,\n",
    "    intersection_qg,\n",
    "    intersection_tg,\n",
    "    intersection_vg,\n",
    "    None,\n",
    "]\n",
    "extent = list(extent_child)\n",
    "de = 10000.0\n",
    "extent[0] -= 2.0 * de\n",
    "extent[1] += 2.5 * de\n",
    "extent[2] -= de\n",
    "extent[3] += de\n",
    "\n",
    "\n",
    "with styles.USGSMap():\n",
    "    fig = plt.figure(figsize=(figwidth, figheight), constrained_layout=True)\n",
    "    gs = gridspec.GridSpec(ncols=2, nrows=16, figure=fig)\n",
    "    axs = [fig.add_subplot(gs[:5, 0])]\n",
    "    axs.append(fig.add_subplot(gs[:5, 1]))\n",
    "    axs.append(fig.add_subplot(gs[5:10, 0]))\n",
    "    axs.append(fig.add_subplot(gs[5:10, 1]))\n",
    "    axs.append(fig.add_subplot(gs[10:15, 0]))\n",
    "    axs.append(fig.add_subplot(gs[10:15, 1]))\n",
    "    axs.append(fig.add_subplot(gs[15:, :]))\n",
    "\n",
    "    for idx, ax in enumerate(axs[:-1]):\n",
    "        g = grids[idx]\n",
    "        t = intersections[idx]\n",
    "        if g is not None:\n",
    "            if isinstance(g, list):\n",
    "                g = g[0]\n",
    "                t = t[0]\n",
    "\n",
    "            pmv = flopy.plot.PlotMapView(modelgrid=g, ax=ax, extent=extent)\n",
    "\n",
    "            v = pmv.plot_array(t, masked_values=(0,), cmap=intersection_cmap)\n",
    "            pmv.plot_grid(**grid_dict)\n",
    "\n",
    "            pmv.plot_inactive(color_noflow=\"gray\", zorder=100)\n",
    "\n",
    "            if isinstance(grids[idx], list):\n",
    "                gg = grids[idx]\n",
    "                tt = intersections[idx]\n",
    "                for g, t in zip(gg[1:], tt[1:]):\n",
    "                    pmvc = flopy.plot.PlotMapView(modelgrid=g, ax=ax, extent=extent)\n",
    "                    pmvc.plot_array(t, masked_values=(0,), cmap=intersection_cmap)\n",
    "                    pmvc.plot_grid(**grid_dict)\n",
    "\n",
    "            # plot lgr polyline\n",
    "            ax.plot(\n",
    "                lgr_poly_array[:, 0],\n",
    "                lgr_poly_array[:, 1],\n",
    "                zorder=101,\n",
    "                **refinement_dict,\n",
    "            )\n",
    "\n",
    "            ax.set_aspect(\"equal\")\n",
    "            ax.set_axisbelow(False)\n",
    "\n",
    "            ax.set_xlim(extent[0], extent[1])\n",
    "            ax.set_xticks(np.arange(50000, 120000, 10000))\n",
    "            if idx in (4, 5):\n",
    "                ax.set_xticklabels(np.arange(50, 120, 10))\n",
    "                ax.set_xlabel(\"x position (km)\")\n",
    "            else:\n",
    "                ax.set_xticklabels([])\n",
    "\n",
    "            ax.set_ylim(extent[2], extent[3])\n",
    "            ax.set_yticks(np.arange(35000, 70000, 10000))\n",
    "            if idx in (0, 2, 4):\n",
    "                ax.set_yticklabels(np.arange(35, 75, 10))\n",
    "                ax.set_ylabel(\"y position (km)\")\n",
    "            else:\n",
    "                ax.set_yticklabels([])\n",
    "\n",
    "            styles.heading(ax, idx=idx)\n",
    "            if True:\n",
    "                ax.plot(bp[:, 0], bp[:, 1], \"k-\", lw=2.0)\n",
    "                for sg in sgs:\n",
    "                    sa = np.array(sg)\n",
    "                    ax.plot(sa[:, 0], sa[:, 1], **river_dict)\n",
    "\n",
    "    # legend\n",
    "    ax = axs[-1]\n",
    "    xy0 = (-100, -100)\n",
    "    ax.set_xlim(0, 1)\n",
    "    ax.set_ylim(0, 1)\n",
    "    ax.set_axis_off()\n",
    "\n",
    "    ax.axhline(xy0[0], **river_dict, label=\"River\")\n",
    "    ax.axhline(xy0[0], label=\"Grid refinement area\", **refinement_dict)\n",
    "    ax.axhline(\n",
    "        xy0[0],\n",
    "        marker=\"s\",\n",
    "        mec=\"0.5\",\n",
    "        mfc=\"white\",\n",
    "        markeredgewidth=0.25,\n",
    "        lw=0,\n",
    "        label=\"Grid cell\",\n",
    "    )\n",
    "    ax.axhline(\n",
    "        xy0[0],\n",
    "        marker=\"s\",\n",
    "        mfc=intersection_rgba,\n",
    "        mec=\"0.5\",\n",
    "        markeredgewidth=0.25,\n",
    "        lw=0,\n",
    "        label=\"Intersected cell\",\n",
    "    )\n",
    "    styles.graph_legend(\n",
    "        ax,\n",
    "        ncol=4,\n",
    "        loc=\"lower center\",\n",
    "        labelspacing=0.5,\n",
    "        columnspacing=0.6,\n",
    "        handletextpad=0.3,\n",
    "    )"
   ]
  },
  {
   "cell_type": "code",
   "execution_count": null,
   "id": "a79b7b0e",
   "metadata": {},
   "outputs": [],
   "source": []
  }
 ],
 "metadata": {
  "jupytext": {
   "notebook_metadata_filter": "metadata"
  },
  "kernelspec": {
   "display_name": "madison25flopy",
   "language": "python",
   "name": "python3"
  },
  "language_info": {
   "codemirror_mode": {
    "name": "ipython",
    "version": 3
   },
   "file_extension": ".py",
   "mimetype": "text/x-python",
   "name": "python",
   "nbconvert_exporter": "python",
   "pygments_lexer": "ipython3",
   "version": "3.13.5"
  },
  "metadata": {
   "authors": [
    {
     "name": "Joseph Hughes"
    }
   ],
   "section": "2023gw-paper"
  }
 },
 "nbformat": 4,
 "nbformat_minor": 5
}
